{
  "nbformat": 4,
  "nbformat_minor": 0,
  "metadata": {
    "colab": {
      "name": "Untitled1.ipynb",
      "provenance": [],
      "collapsed_sections": [],
      "authorship_tag": "ABX9TyPnVAUt8uFKtDhZuX19aiLG",
      "include_colab_link": true
    },
    "kernelspec": {
      "name": "python3",
      "display_name": "Python 3"
    },
    "language_info": {
      "name": "python"
    }
  },
  "cells": [
    {
      "cell_type": "markdown",
      "metadata": {
        "id": "view-in-github",
        "colab_type": "text"
      },
      "source": [
        "<a href=\"https://colab.research.google.com/github/ankit8291/Python-Practical-Exam/blob/main/Untitled1.ipynb\" target=\"_parent\"><img src=\"https://colab.research.google.com/assets/colab-badge.svg\" alt=\"Open In Colab\"/></a>"
      ]
    },
    {
      "cell_type": "markdown",
      "source": [
        "1. Write a function that finds the sum of the"
      ],
      "metadata": {
        "id": "pvZI85c-i72c"
      }
    },
    {
      "cell_type": "markdown",
      "source": [
        "a.) first n odd terms  "
      ],
      "metadata": {
        "id": "q65Th40ijOmD"
      }
    },
    {
      "cell_type": "code",
      "source": [
        "# Python Program to Calculate Sum of Odd Numbers from 1 to N\n",
        " \n",
        "maximum = int(input(\" Please Enter the number : \"))\n",
        "Oddtotal = 0\n",
        "\n",
        "for number in range(1, maximum+1):\n",
        "    if(number % 2 != 0):\n",
        "        print(\"{0}\".format(number))\n",
        "        Oddtotal = Oddtotal + number\n",
        "\n",
        "print(\"The Sum of Odd Numbers from 1 to {0} = {1}\".format(number, Oddtotal))"
      ],
      "metadata": {
        "colab": {
          "base_uri": "https://localhost:8080/"
        },
        "id": "VTWC451pjVjR",
        "outputId": "93bbd165-bf3a-40d4-bc5f-6d795b022e1c"
      },
      "execution_count": 7,
      "outputs": [
        {
          "output_type": "stream",
          "name": "stdout",
          "text": [
            " Please Enter the number : 20\n",
            "1\n",
            "3\n",
            "5\n",
            "7\n",
            "9\n",
            "11\n",
            "13\n",
            "15\n",
            "17\n",
            "19\n",
            "The Sum of Odd Numbers from 1 to 20 = 100\n"
          ]
        }
      ]
    },
    {
      "cell_type": "markdown",
      "source": [
        "b.) first n even terms"
      ],
      "metadata": {
        "id": "l8rdFl0-l5Ub"
      }
    },
    {
      "cell_type": "code",
      "source": [
        "# Python program to Calculate Sum of even numbers\n",
        "n=int(input(\"Enter the Number : \"))\n",
        "s=0\n",
        "for i in range(0,n+1,2):\n",
        "    s=s+i\n",
        "print(\"The sum of even Numbers  : \",s)"
      ],
      "metadata": {
        "colab": {
          "base_uri": "https://localhost:8080/"
        },
        "id": "s40qKQvQmBc_",
        "outputId": "ce7d86e0-b544-496d-a223-59fe9ecaa1de"
      },
      "execution_count": 6,
      "outputs": [
        {
          "output_type": "stream",
          "name": "stdout",
          "text": [
            "Enter the Number : 15\n",
            "The sum of even Numbers  :  56\n"
          ]
        }
      ]
    },
    {
      "cell_type": "markdown",
      "source": [
        "c) 1, 2, 4, 3, 5, 7, 9, 6, 8, 10, 11, 13.. till n-th term"
      ],
      "metadata": {
        "id": "KOp92lUln4LL"
      }
    },
    {
      "cell_type": "code",
      "source": [
        "# Python Programe to calculate sun of 1, 2, 4, 3, 5, 7, 9, 6, 8, 10, 11, 13.. till n-th term\n",
        "n=int(input(\"Enter the number of terms: \"))\n",
        "i=1\n",
        "s=0\n",
        "while(i<=n):\n",
        "  s=s+i\n",
        "  i=i+1\n",
        "print(\"Sum is: \",s)"
      ],
      "metadata": {
        "colab": {
          "base_uri": "https://localhost:8080/"
        },
        "id": "gjhJLSxOoaRW",
        "outputId": "85784980-08b2-4f4f-db9d-80e0d7c56362"
      },
      "execution_count": 16,
      "outputs": [
        {
          "output_type": "stream",
          "name": "stdout",
          "text": [
            "Enter the number of terms: 21\n",
            "Sum is:  231\n"
          ]
        }
      ]
    },
    {
      "cell_type": "markdown",
      "source": [
        "2. Consider a tuple t1=(1,2,5,7,9,2,4,6,8,10). Write a program to perform following operations: "
      ],
      "metadata": {
        "id": "mVCPkQofqp3n"
      }
    },
    {
      "cell_type": "markdown",
      "source": [
        "a. Print half the values of tuple in one line and the other half in the next line. "
      ],
      "metadata": {
        "id": "zchWfyn0qvha"
      }
    },
    {
      "cell_type": "code",
      "source": [
        "tpl = (1,2,5,7,9,2,4,6,8,10)\n",
        "\n",
        "for i in range(0,5):\n",
        "    print(tpl[i],end = ' ')\n",
        "print()\n",
        "for i in range(5,10):\n",
        "    print(tpl[i],end = ' ')"
      ],
      "metadata": {
        "colab": {
          "base_uri": "https://localhost:8080/"
        },
        "id": "tTfk8gvrq3-5",
        "outputId": "857a97b8-a50e-4b5b-e9ab-60b8befa9e8b"
      },
      "execution_count": 18,
      "outputs": [
        {
          "output_type": "stream",
          "name": "stdout",
          "text": [
            "1 2 5 7 9 \n",
            "2 4 6 8 10 "
          ]
        }
      ]
    },
    {
      "cell_type": "markdown",
      "source": [
        "b. Print another tuple whose values are even numbers in the given tuple. "
      ],
      "metadata": {
        "id": "sVHWgHmgsv_X"
      }
    },
    {
      "cell_type": "code",
      "source": [
        "tpl = (1,2,5,7,9,2,4,6,8,10)\n",
        "tpl1 = tuple(i for i in tpl if i%2 == 0)\n",
        "print(tpl1)"
      ],
      "metadata": {
        "colab": {
          "base_uri": "https://localhost:8080/"
        },
        "id": "luJHZwj_swbU",
        "outputId": "60752238-dfd5-4009-80b9-89a50c88e4e4"
      },
      "execution_count": 19,
      "outputs": [
        {
          "output_type": "stream",
          "name": "stdout",
          "text": [
            "(2, 2, 4, 6, 8, 10)\n"
          ]
        }
      ]
    },
    {
      "cell_type": "markdown",
      "source": [
        "c.) Concatenate a tuple t2=(11,13,15) witht1"
      ],
      "metadata": {
        "id": "iBAROn9WtG_e"
      }
    },
    {
      "cell_type": "code",
      "source": [
        "# initialize tuples\n",
        "test_tup1 = (1,2,5,7,9,2,4,6,8,10)\n",
        "test_tup2 = (11,13,15)\n",
        "\n",
        "# printing original tuples\n",
        "print(\"The original tuple 1 : \" + str(test_tup1))\n",
        "print(\"The original tuple 2 : \" + str(test_tup2))\n",
        "\n",
        "# Ways to concatenate tuples\n",
        "# using + operator\n",
        "res = test_tup1 + test_tup2\n",
        "\n",
        "# printing result\n",
        "print(\"The tuple after concatenation is : \" + str(res))\n"
      ],
      "metadata": {
        "colab": {
          "base_uri": "https://localhost:8080/"
        },
        "id": "GFKPL6O1tyQA",
        "outputId": "d930f2d4-a05e-44cd-be1e-95e8a362127a"
      },
      "execution_count": 20,
      "outputs": [
        {
          "output_type": "stream",
          "name": "stdout",
          "text": [
            "The original tuple 1 : (1, 2, 5, 7, 9, 2, 4, 6, 8, 10)\n",
            "The original tuple 2 : (11, 13, 15)\n",
            "The tuple after concatenation is : (1, 2, 5, 7, 9, 2, 4, 6, 8, 10, 11, 13, 15)\n"
          ]
        }
      ]
    },
    {
      "cell_type": "markdown",
      "source": [
        "d. Return maximum and minimum value from this tuple"
      ],
      "metadata": {
        "id": "eR-mTXTKuC7M"
      }
    },
    {
      "cell_type": "code",
      "source": [
        "# initializing list\n",
        "test_list = [(1, 2, 5, 7, 9, 2, 4, 6, 8, 10, 11, 13, 15)]\n",
        "\n",
        "# printing original list\n",
        "print (\"The original list is : \" + str(test_list))\n",
        "\n",
        "res1 = min(test_list)[0] \n",
        "res2 = max(test_list)[12]\n",
        "\n",
        "# printing result\n",
        "print (\"The min of index  : \" + str(res1))\n",
        "print (\"The max of index  : \" + str(res2))\n"
      ],
      "metadata": {
        "colab": {
          "base_uri": "https://localhost:8080/"
        },
        "id": "pHNn1uIruIjz",
        "outputId": "2a3f2b40-bfff-49d4-d61f-96321c5f6ed0"
      },
      "execution_count": 33,
      "outputs": [
        {
          "output_type": "stream",
          "name": "stdout",
          "text": [
            "The original list is : [(1, 2, 5, 7, 9, 2, 4, 6, 8, 10, 11, 13, 15)]\n",
            "The min of index  : 1\n",
            "The max of index  : 15\n"
          ]
        }
      ]
    },
    {
      "cell_type": "markdown",
      "source": [
        "3. Write a menu driven program to perform the following functions on strings: \n"
      ],
      "metadata": {
        "id": "6YkopncYw_wu"
      }
    },
    {
      "cell_type": "markdown",
      "source": [
        "a. Find the length of string "
      ],
      "metadata": {
        "id": "NhSj-y5hxDDl"
      }
    },
    {
      "cell_type": "code",
      "source": [
        "str = input(\"Enter a string: \")\n",
        "counter = 0\n",
        "for s in str:\n",
        "      counter = counter+1\n",
        "print(\"Length of the input string is:\", counter)"
      ],
      "metadata": {
        "colab": {
          "base_uri": "https://localhost:8080/"
        },
        "id": "JnkHOOY3xIUT",
        "outputId": "f98713b5-c00c-407e-e495-42e49bad4baa"
      },
      "execution_count": 45,
      "outputs": [
        {
          "output_type": "stream",
          "name": "stdout",
          "text": [
            "Enter a string: ice\n",
            "Length of the input string is: 3\n"
          ]
        }
      ]
    },
    {
      "cell_type": "markdown",
      "source": [
        "b.) Return maximum of three strings "
      ],
      "metadata": {
        "id": "HyOORFVUz31v"
      }
    },
    {
      "cell_type": "code",
      "source": [
        "def maximum(a, b, c): \n",
        "   list = [a, b, c] \n",
        "   return max(list) \n",
        "# Driven code  \n",
        "x = str(input(\"Enter First number\"))\n",
        "y = str(input(\"Enter Second number\"))\n",
        "z = str(input(\"Enter Third number\"))\n",
        "print(\"Maximum Number is ::>\",maximum(x, y, z))"
      ],
      "metadata": {
        "colab": {
          "base_uri": "https://localhost:8080/",
          "height": 252
        },
        "id": "pibxh94T0KuJ",
        "outputId": "f4a67f72-0e3e-4cdc-ba3a-3e753707c3d7"
      },
      "execution_count": 47,
      "outputs": [
        {
          "name": "stdout",
          "output_type": "stream",
          "text": [
            "Enter First numberice\n"
          ]
        },
        {
          "output_type": "error",
          "ename": "TypeError",
          "evalue": "ignored",
          "traceback": [
            "\u001b[0;31m---------------------------------------------------------------------------\u001b[0m",
            "\u001b[0;31mTypeError\u001b[0m                                 Traceback (most recent call last)",
            "\u001b[0;32m<ipython-input-47-f439eb74ceef>\u001b[0m in \u001b[0;36m<module>\u001b[0;34m()\u001b[0m\n\u001b[1;32m      3\u001b[0m    \u001b[0;32mreturn\u001b[0m \u001b[0mmax\u001b[0m\u001b[0;34m(\u001b[0m\u001b[0mlist\u001b[0m\u001b[0;34m)\u001b[0m\u001b[0;34m\u001b[0m\u001b[0;34m\u001b[0m\u001b[0m\n\u001b[1;32m      4\u001b[0m \u001b[0;31m# Driven code\u001b[0m\u001b[0;34m\u001b[0m\u001b[0;34m\u001b[0m\u001b[0;34m\u001b[0m\u001b[0m\n\u001b[0;32m----> 5\u001b[0;31m \u001b[0mx\u001b[0m \u001b[0;34m=\u001b[0m \u001b[0mstr\u001b[0m\u001b[0;34m(\u001b[0m\u001b[0minput\u001b[0m\u001b[0;34m(\u001b[0m\u001b[0;34m\"Enter First number\"\u001b[0m\u001b[0;34m)\u001b[0m\u001b[0;34m)\u001b[0m\u001b[0;34m\u001b[0m\u001b[0;34m\u001b[0m\u001b[0m\n\u001b[0m\u001b[1;32m      6\u001b[0m \u001b[0my\u001b[0m \u001b[0;34m=\u001b[0m \u001b[0mstr\u001b[0m\u001b[0;34m(\u001b[0m\u001b[0minput\u001b[0m\u001b[0;34m(\u001b[0m\u001b[0;34m\"Enter Second number\"\u001b[0m\u001b[0;34m)\u001b[0m\u001b[0;34m)\u001b[0m\u001b[0;34m\u001b[0m\u001b[0;34m\u001b[0m\u001b[0m\n\u001b[1;32m      7\u001b[0m \u001b[0mz\u001b[0m \u001b[0;34m=\u001b[0m \u001b[0mstr\u001b[0m\u001b[0;34m(\u001b[0m\u001b[0minput\u001b[0m\u001b[0;34m(\u001b[0m\u001b[0;34m\"Enter Third number\"\u001b[0m\u001b[0;34m)\u001b[0m\u001b[0;34m)\u001b[0m\u001b[0;34m\u001b[0m\u001b[0;34m\u001b[0m\u001b[0m\n",
            "\u001b[0;31mTypeError\u001b[0m: 'str' object is not callable"
          ]
        }
      ]
    },
    {
      "cell_type": "markdown",
      "source": [
        "c. Accept a string and replace every successive character with ‘#’ Example- For Given string ‘Hello World’ returned string is ‘H#l#o W#r#d’."
      ],
      "metadata": {
        "id": "yxgYA3oP2e2g"
      }
    },
    {
      "cell_type": "code",
      "source": [
        "def changer():\n",
        "    ch=[]\n",
        "    for i in 'Hello World':\n",
        "        ch.append(i)\n",
        "    for j in range(1,len(ch),2):\n",
        "        ch[j]= '#'\n",
        "    s=''\n",
        "    for k in ch:\n",
        "        s=s + k\n",
        "    print(s)\n",
        "changer()\n"
      ],
      "metadata": {
        "colab": {
          "base_uri": "https://localhost:8080/"
        },
        "id": "ja0wAD6-2fGm",
        "outputId": "9e7dbb7f-6983-4cba-f32b-11393e93c19d"
      },
      "execution_count": 51,
      "outputs": [
        {
          "output_type": "stream",
          "name": "stdout",
          "text": [
            "H#l#o#W#r#d\n"
          ]
        }
      ]
    },
    {
      "cell_type": "markdown",
      "source": [
        "d. Find number of words in the given string\n",
        "\n"
      ],
      "metadata": {
        "id": "lGLMS91x3Jdp"
      }
    },
    {
      "cell_type": "code",
      "source": [
        "string=\"Can you can a can as a canner can can a can?\"\n",
        "# if you want to take cases into account remove this line\n",
        "string=string.lower()\n",
        "# between index=8 and 17, how many times the word 'can' occurs\n",
        "print(string.count(\"can\",8,17)\n"
      ],
      "metadata": {
        "colab": {
          "base_uri": "https://localhost:8080/",
          "height": 130
        },
        "id": "LLJWWFOw3e1r",
        "outputId": "8b142240-fe64-4730-a0eb-55022c979ba0"
      },
      "execution_count": 53,
      "outputs": [
        {
          "output_type": "error",
          "ename": "SyntaxError",
          "evalue": "ignored",
          "traceback": [
            "\u001b[0;36m  File \u001b[0;32m\"<ipython-input-53-013793733466>\"\u001b[0;36m, line \u001b[0;32m5\u001b[0m\n\u001b[0;31m    print(string.count(\"can\",8,17)\u001b[0m\n\u001b[0m                                  ^\u001b[0m\n\u001b[0;31mSyntaxError\u001b[0m\u001b[0;31m:\u001b[0m unexpected EOF while parsing\n"
          ]
        }
      ]
    }
  ]
}